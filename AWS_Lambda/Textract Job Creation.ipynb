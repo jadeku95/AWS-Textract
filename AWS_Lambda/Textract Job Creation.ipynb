{
 "cells": [
  {
   "cell_type": "code",
   "execution_count": null,
   "id": "783e03e5",
   "metadata": {},
   "outputs": [],
   "source": [
    "\n",
    "\n",
    "\"\"\"\n",
    "-*- coding: utf-8 -*-\n",
    "========================\n",
    "AWS Lambda\n",
    "========================\n",
    "Contributor: Aditya Tomar\n",
    "========================\n",
    "\"\"\"\n",
    "\n",
    "import os\n",
    "import json\n",
    "import boto3\n",
    "from urllib.parse import unquote_plus\n",
    "\n",
    "OUTPUT_BUCKET_NAME = os.environ[\"OUTPUT_BUCKET_NAME\"]\n",
    "OUTPUT_S3_PREFIX = os.environ[\"OUTPUT_S3_PREFIX\"]\n",
    "SNS_TOPIC_ARN = os.environ[\"SNS_TOPIC_ARN\"]\n",
    "SNS_ROLE_ARN = os.environ[\"SNS_ROLE_ARN\"]\n",
    "\n",
    "\n",
    "def lambda_handler(event, context):\n",
    "\n",
    "    textract = boto3.client(\"textract\")\n",
    "    if event:\n",
    "        file_obj = event[\"Records\"][0]\n",
    "        bucketname = str(file_obj[\"s3\"][\"bucket\"][\"name\"])\n",
    "        filename = unquote_plus(str(file_obj[\"s3\"][\"object\"][\"key\"]))\n",
    "\n",
    "        print(f\"Bucket: {bucketname} ::: Key: {filename}\")\n",
    "\n",
    "        response = textract.start_document_text_detection(\n",
    "            DocumentLocation={\"S3Object\": {\"Bucket\": bucketname, \"Name\": filename}},\n",
    "            OutputConfig={\"S3Bucket\": OUTPUT_BUCKET_NAME, \"S3Prefix\": OUTPUT_S3_PREFIX},\n",
    "            NotificationChannel={\"SNSTopicArn\": SNS_TOPIC_ARN, \"RoleArn\": SNS_ROLE_ARN},\n",
    "        )\n",
    "        if response[\"ResponseMetadata\"][\"HTTPStatusCode\"] == 200:\n",
    "            return {\"statusCode\": 200, \"body\": json.dumps(\"Job created successfully!\")}\n",
    "        else:\n",
    "            return {\"statusCode\": 500, \"body\": json.dumps(\"Job creation failed!\")}"
   ]
  }
 ],
 "metadata": {
  "kernelspec": {
   "display_name": "Python 3 (ipykernel)",
   "language": "python",
   "name": "python3"
  },
  "language_info": {
   "codemirror_mode": {
    "name": "ipython",
    "version": 3
   },
   "file_extension": ".py",
   "mimetype": "text/x-python",
   "name": "python",
   "nbconvert_exporter": "python",
   "pygments_lexer": "ipython3",
   "version": "3.9.12"
  }
 },
 "nbformat": 4,
 "nbformat_minor": 5
}
